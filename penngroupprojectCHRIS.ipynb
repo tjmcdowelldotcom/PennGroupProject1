{
 "cells": [
  {
   "cell_type": "code",
   "execution_count": 1,
   "id": "b49c904d",
   "metadata": {},
   "outputs": [
    {
     "name": "stderr",
     "output_type": "stream",
     "text": [
      "C:\\Users\\ChrisKwit\\anaconda3\\envs\\pyvizenv\\lib\\site-packages\\ipykernel\\parentpoller.py:116: UserWarning: Parent poll failed.  If the frontend dies,\n",
      "                the kernel may be left running.  Please let us know\n",
      "                about your system (bitness, Python, etc.) at\n",
      "                ipython-dev@scipy.org\n",
      "  ipython-dev@scipy.org\"\"\")\n",
      "\n",
      "Bad key savefig.frameon in file C:\\Users\\ChrisKwit\\anaconda3\\envs\\pyvizenv\\lib\\site-packages\\matplotlib\\mpl-data\\stylelib\\_classic_test.mplstyle, line 421 ('savefig.frameon : True')\n",
      "You probably need to get an updated matplotlibrc file from\n",
      "https://github.com/matplotlib/matplotlib/blob/v3.3.4/matplotlibrc.template\n",
      "or from the matplotlib source distribution\n",
      "\n",
      "Bad key verbose.level in file C:\\Users\\ChrisKwit\\anaconda3\\envs\\pyvizenv\\lib\\site-packages\\matplotlib\\mpl-data\\stylelib\\_classic_test.mplstyle, line 472 ('verbose.level  : silent      # one of silent, helpful, debug, debug-annoying')\n",
      "You probably need to get an updated matplotlibrc file from\n",
      "https://github.com/matplotlib/matplotlib/blob/v3.3.4/matplotlibrc.template\n",
      "or from the matplotlib source distribution\n",
      "\n",
      "Bad key verbose.fileo in file C:\\Users\\ChrisKwit\\anaconda3\\envs\\pyvizenv\\lib\\site-packages\\matplotlib\\mpl-data\\stylelib\\_classic_test.mplstyle, line 473 ('verbose.fileo  : sys.stdout  # a log filename, sys.stdout or sys.stderr')\n",
      "You probably need to get an updated matplotlibrc file from\n",
      "https://github.com/matplotlib/matplotlib/blob/v3.3.4/matplotlibrc.template\n",
      "or from the matplotlib source distribution\n",
      "In C:\\Users\\ChrisKwit\\anaconda3\\envs\\pyvizenv\\lib\\site-packages\\matplotlib\\mpl-data\\stylelib\\_classic_test.mplstyle: \n",
      "The text.latex.preview rcparam was deprecated in Matplotlib 3.3 and will be removed two minor releases later.\n",
      "In C:\\Users\\ChrisKwit\\anaconda3\\envs\\pyvizenv\\lib\\site-packages\\matplotlib\\mpl-data\\stylelib\\_classic_test.mplstyle: \n",
      "The mathtext.fallback_to_cm rcparam was deprecated in Matplotlib 3.3 and will be removed two minor releases later.\n",
      "In C:\\Users\\ChrisKwit\\anaconda3\\envs\\pyvizenv\\lib\\site-packages\\matplotlib\\mpl-data\\stylelib\\_classic_test.mplstyle: Support for setting the 'mathtext.fallback_to_cm' rcParam is deprecated since 3.3 and will be removed two minor releases later; use 'mathtext.fallback : 'cm' instead.\n",
      "In C:\\Users\\ChrisKwit\\anaconda3\\envs\\pyvizenv\\lib\\site-packages\\matplotlib\\mpl-data\\stylelib\\_classic_test.mplstyle: \n",
      "The validate_bool_maybe_none function was deprecated in Matplotlib 3.3 and will be removed two minor releases later.\n",
      "In C:\\Users\\ChrisKwit\\anaconda3\\envs\\pyvizenv\\lib\\site-packages\\matplotlib\\mpl-data\\stylelib\\_classic_test.mplstyle: \n",
      "The savefig.jpeg_quality rcparam was deprecated in Matplotlib 3.3 and will be removed two minor releases later.\n",
      "In C:\\Users\\ChrisKwit\\anaconda3\\envs\\pyvizenv\\lib\\site-packages\\matplotlib\\mpl-data\\stylelib\\_classic_test.mplstyle: \n",
      "The keymap.all_axes rcparam was deprecated in Matplotlib 3.3 and will be removed two minor releases later.\n",
      "In C:\\Users\\ChrisKwit\\anaconda3\\envs\\pyvizenv\\lib\\site-packages\\matplotlib\\mpl-data\\stylelib\\_classic_test.mplstyle: \n",
      "The animation.avconv_path rcparam was deprecated in Matplotlib 3.3 and will be removed two minor releases later.\n",
      "In C:\\Users\\ChrisKwit\\anaconda3\\envs\\pyvizenv\\lib\\site-packages\\matplotlib\\mpl-data\\stylelib\\_classic_test.mplstyle: \n",
      "The animation.avconv_args rcparam was deprecated in Matplotlib 3.3 and will be removed two minor releases later.\n"
     ]
    }
   ],
   "source": [
    "import os\n",
    "import numpy as np\n",
    "import pandas as pd\n",
    "import matplotlib\n",
    "# import mplfinance as mpf\n",
    "import asyncio\n",
    "import plotly.express as px\n",
    "from pathlib import Path\n",
    "import time as t\n",
    "import threading\n",
    "import requests\n",
    "from requests import Request, Session\n",
    "import datetime\n",
    "from requests.exceptions import ConnectionError, Timeout, TooManyRedirects\n",
    "import json\n",
    "\n",
    "%matplotlib inline"
   ]
  },
  {
   "cell_type": "code",
   "execution_count": 2,
   "id": "c6fbf87e",
   "metadata": {},
   "outputs": [],
   "source": [
    "from dotenv import load_dotenv\n",
    "load_dotenv()\n",
    "cmc_key = os.getenv('CMC_KEY')"
   ]
  },
  {
   "cell_type": "markdown",
   "id": "acf1610a",
   "metadata": {},
   "source": [
    "***_INDEX TOKENS_***"
   ]
  },
  {
   "cell_type": "code",
   "execution_count": 3,
   "id": "d5f4d7d3",
   "metadata": {},
   "outputs": [],
   "source": [
    "# Request data from Kuc API & Convert to Json\n",
    "btc = requests.get('https://api.kucoin.com/api/v1/market/candles?type=8hour&symbol=BTC-USDT&startAt=1620360000&endAt=0')\n",
    "btc_j = btc.json()\n",
    "\n",
    "# Convert json to DataFrame\n",
    "btc_df = pd.DataFrame(btc_j['data'])\n",
    "\n",
    "# Rename Date, Open, & Close columns and remove others\n",
    "btc_df.rename(columns={0:'Date',1:'Open',2:'Close'}, inplace=True)\n",
    "\n",
    "btc_df.drop(columns = [3,4,5,6], inplace=True)\n",
    "\n",
    "# Create A DF with Median Price \n",
    "\n",
    "btc_median = btc_df[['Open','Close']].astype(float)\n",
    "\n",
    "btc_median['BTC Median'] = btc_median[['Open','Close']].mean(axis=1)\n",
    "btc_median = btc_median['BTC Median']\n",
    "\n",
    "btc_df_date = pd.to_datetime(btc_df['Date'], unit='s')\n",
    "btc_date = [btc_df_date, btc_median]\n",
    "btc_result = pd.concat(btc_date, axis=1, join = 'outer')\n",
    "btc_plot = btc_result.set_index('Date')\n",
    "btc_result.set_index('Date', inplace=True)"
   ]
  },
  {
   "cell_type": "code",
   "execution_count": 4,
   "id": "9429a5f8",
   "metadata": {},
   "outputs": [
    {
     "data": {
      "image/png": "[encoded data removed]",
      "text/plain": [
       "<Figure size 432x288 with 1 Axes>"
      ]
     },
     "metadata": {
      "needs_background": "light"
     },
     "output_type": "display_data"
    }
   ],
   "source": [
    "btc_plot.plot();"
   ]
  },
  {
   "cell_type": "code",
   "execution_count": 5,
   "id": "69946343",
   "metadata": {},
   "outputs": [
    {
     "data": {
      "text/html": [
       "<div>\n",
       "<style scoped>\n",
       "    .dataframe tbody tr th:only-of-type {\n",
       "        vertical-align: middle;\n",
       "    }\n",
       "\n",
       "    .dataframe tbody tr th {\n",
       "        vertical-align: top;\n",
       "    }\n",
       "\n",
       "    .dataframe thead th {\n",
       "        text-align: right;\n",
       "    }\n",
       "</style>\n",
       "<table border=\"1\" class=\"dataframe\">\n",
       "  <thead>\n",
       "    <tr style=\"text-align: right;\">\n",
       "      <th></th>\n",
       "      <th>ETH Median</th>\n",
       "    </tr>\n",
       "    <tr>\n",
       "      <th>Date</th>\n",
       "      <th></th>\n",
       "    </tr>\n",
       "  </thead>\n",
       "  <tbody>\n",
       "    <tr>\n",
       "      <th>2021-11-13 16:00:00</th>\n",
       "      <td>4667.595</td>\n",
       "    </tr>\n",
       "    <tr>\n",
       "      <th>2021-11-13 08:00:00</th>\n",
       "      <td>4662.250</td>\n",
       "    </tr>\n",
       "    <tr>\n",
       "      <th>2021-11-13 00:00:00</th>\n",
       "      <td>4654.745</td>\n",
       "    </tr>\n",
       "    <tr>\n",
       "      <th>2021-11-12 16:00:00</th>\n",
       "      <td>4618.820</td>\n",
       "    </tr>\n",
       "    <tr>\n",
       "      <th>2021-11-12 08:00:00</th>\n",
       "      <td>4641.135</td>\n",
       "    </tr>\n",
       "    <tr>\n",
       "      <th>...</th>\n",
       "      <td>...</td>\n",
       "    </tr>\n",
       "    <tr>\n",
       "      <th>2021-05-08 16:00:00</th>\n",
       "      <td>3770.255</td>\n",
       "    </tr>\n",
       "    <tr>\n",
       "      <th>2021-05-08 08:00:00</th>\n",
       "      <td>3579.080</td>\n",
       "    </tr>\n",
       "    <tr>\n",
       "      <th>2021-05-08 00:00:00</th>\n",
       "      <td>3503.850</td>\n",
       "    </tr>\n",
       "    <tr>\n",
       "      <th>2021-05-07 16:00:00</th>\n",
       "      <td>3520.205</td>\n",
       "    </tr>\n",
       "    <tr>\n",
       "      <th>2021-05-07 08:00:00</th>\n",
       "      <td>3497.655</td>\n",
       "    </tr>\n",
       "  </tbody>\n",
       "</table>\n",
       "<p>572 rows × 1 columns</p>\n",
       "</div>"
      ],
      "text/plain": [
       "                     ETH Median\n",
       "Date                           \n",
       "2021-11-13 16:00:00    4667.595\n",
       "2021-11-13 08:00:00    4662.250\n",
       "2021-11-13 00:00:00    4654.745\n",
       "2021-11-12 16:00:00    4618.820\n",
       "2021-11-12 08:00:00    4641.135\n",
       "...                         ...\n",
       "2021-05-08 16:00:00    3770.255\n",
       "2021-05-08 08:00:00    3579.080\n",
       "2021-05-08 00:00:00    3503.850\n",
       "2021-05-07 16:00:00    3520.205\n",
       "2021-05-07 08:00:00    3497.655\n",
       "\n",
       "[572 rows x 1 columns]"
      ]
     },
     "execution_count": 5,
     "metadata": {},
     "output_type": "execute_result"
    }
   ],
   "source": [
    "eth = requests.get('https://api.kucoin.com/api/v1/market/candles?type=8hour&symbol=ETH-USDT&startAt=1620360000&endAt=0')\n",
    "eth_j = eth.json()\n",
    "\n",
    "\n",
    "eth_df = pd.DataFrame(eth_j['data'])\n",
    "\n",
    "\n",
    "eth_df.rename(columns={0:'Date',1:'Open',2:'Close'}, inplace=True)\n",
    "eth_df.drop(columns = [3,4,5,6], inplace=True)\n",
    "\n",
    "\n",
    "eth_median = eth_df[['Open','Close']].astype(float)\n",
    "\n",
    "\n",
    "eth_median['ETH Median'] = eth_median[['Open','Close']].mean(axis=1)\n",
    "\n",
    "\n",
    "eth_median = eth_median['ETH Median']\n",
    "\n",
    "\n",
    "eth_df_date = pd.to_datetime(eth_df['Date'], unit='s')\n",
    "\n",
    "\n",
    "eth_date = [eth_df_date, eth_median]\n",
    "\n",
    "\n",
    "eth_result = pd.concat(eth_date, axis=1, join = 'outer')\n",
    "\n",
    "\n",
    "eth_result.set_index('Date', inplace=True)\n",
    "\n",
    "eth_result"
   ]
  },
  {
   "cell_type": "code",
   "execution_count": null,
   "id": "a9afed8f",
   "metadata": {},
   "outputs": [],
   "source": [
    "#Create function to pull crypto data from KuCoin\n",
    "def crypto_price_df(ticker):\n",
    "    crypto = requests.get(f'https://api.kucoin.com/api/v1/market/candles?type=8hour&symbol={ticker}-USDT&startAt=1620360000&endAt=0')\n",
    "    crypto_j = crypto.json()\n",
    "    crypto_df = pd.DataFrame(crypto_j['data'])\n",
    "    crypto_df.rename(columns={0:'Date',1:'Open',2:'Close'}, inplace=True)\n",
    "    crypto_df.drop(columns = [3,4,5,6], inplace=True)\n",
    "    crypto_median = crypto_df[['Open','Close']].astype(float)\n",
    "    crypto_median[f'{ticker} Median'] = crypto_median[['Open','Close']].mean(axis=1)\n",
    "    crypto_median = crypto_median[f'{ticker} Median']\n",
    "    crypto_df_date = pd.to_datetime(crypto_df['Date'], unit='s')\n",
    "    crypto_date = [crypto_df_date, crypto_median]\n",
    "    crypto_result = pd.concat(crypto_date, axis=1, join = 'outer')\n",
    "    crypto_result.set_index('Date', inplace=True)\n",
    "    return crypto_result"
   ]
  },
  {
   "cell_type": "code",
   "execution_count": null,
   "id": "913ba182",
   "metadata": {},
   "outputs": [],
   "source": [
    "#Create function to pull crypto data from Binance\n",
    "def binance_price_df(ticker):\n",
    "    crypto = requests.get(f'https://api.binance.com/api/v3/klines?symbol={ticker}USDT&interval=8h&startTime=1620360000000&limit=666')\n",
    "    crypto_j = crypto.json()\n",
    "    crypto_df = pd.DataFrame(crypto_j)\n",
    "    crypto_df.rename(columns={0:'Date',1:'Open',2:'Close'}, inplace=True)\n",
    "    crypto_df.drop(columns = [3,4,5,6], inplace=True)\n",
    "    crypto_median = crypto_df[['Open','Close']].astype(float)\n",
    "    crypto_median[f'{ticker} Median'] = crypto_median[['Open','Close']].mean(axis=1)\n",
    "    crypto_median = crypto_median[f'{ticker} Median']\n",
    "    crypto_df_date = pd.to_datetime(crypto_df['Date'], unit='ms')\n",
    "    crypto_date = [crypto_df_date, crypto_median]\n",
    "    crypto_result = pd.concat(crypto_date, axis=1, join = 'outer')\n",
    "    crypto_result.set_index('Date', inplace=True)\n",
    "    return crypto_result"
   ]
  },
  {
   "cell_type": "code",
   "execution_count": null,
   "id": "da6c41ec",
   "metadata": {},
   "outputs": [],
   "source": [
    "def enter_ticker():\n",
    "    t = input('Please ender the Ticker: ')\n",
    "    return crypto_price_df(t)"
   ]
  },
  {
   "cell_type": "code",
   "execution_count": null,
   "id": "dc852c77",
   "metadata": {},
   "outputs": [],
   "source": [
    "enter_ticker();"
   ]
  },
  {
   "cell_type": "code",
   "execution_count": null,
   "id": "05f52e58",
   "metadata": {},
   "outputs": [],
   "source": [
    "bnb_result = crypto_price_df('BNB')\n",
    "doge_result = crypto_price_df('DOGE')\n",
    "ltc_result = crypto_price_df('LTC')\n",
    "ada_result = crypto_price_df('ADA')\n",
    "xrp_result = crypto_price_df('XRP')\n",
    "usdc_result = crypto_price_df('USDC')\n",
    "link_result = crypto_price_df('LINK')\n",
    "uni_result = crypto_price_df('UNI')\n",
    "dot_result = crypto_price_df('DOT')\n",
    "sol_result = binance_price_df('SOL')\n",
    "luna_result = crypto_price_df('LUNA')\n",
    "avax_result = crypto_price_df('AVAX')\n",
    "algo_result = crypto_price_df('ALGO')\n",
    "bch_result = crypto_price_df('BCH')\n",
    "matic_result = binance_price_df('MATIC')\n",
    "vet_result = crypto_price_df('VET')\n",
    "xlm_result = crypto_price_df('XLM')"
   ]
  },
  {
   "cell_type": "code",
   "execution_count": null,
   "id": "d9d12ff7",
   "metadata": {},
   "outputs": [],
   "source": [
    "index_tokens = pd.concat([btc_result, dot_result, eth_result, ada_result, doge_result, ltc_result, bnb_result, \n",
    "                          xrp_result, uni_result, link_result, usdc_result, sol_result,\n",
    "                          luna_result, avax_result,algo_result,bch_result,matic_result,vet_result,xlm_result], axis=1, join='outer')\n",
    "index_tokens"
   ]
  },
  {
   "cell_type": "raw",
   "id": "bd6d1016",
   "metadata": {},
   "source": [
    "url = 'https://pro-api.coinmarketcap.com/v1/cryptocurrency/listings/latest'\n",
    "parameters = {\n",
    "  'start':'1',\n",
    "  'limit':'1',\n",
    "  'convert':'USD'\n",
    "}\n",
    "headers = {\n",
    "  'Accepts': 'application/json',\n",
    "  'X-CMC_PRO_API_KEY': cmc_key,\n",
    "}\n",
    "\n",
    "session = Session()\n",
    "session.headers.update(headers)\n",
    "\n",
    "try:\n",
    "  response = session.get(url, params=parameters)\n",
    "  data = json.loads(response.text)\n",
    "except (ConnectionError, Timeout, TooManyRedirects) as e:\n",
    "  print(e)\n",
    "\n",
    "data['data']"
   ]
  },
  {
   "cell_type": "raw",
   "id": "6e92d2fb",
   "metadata": {},
   "source": [
    "markdom_csv = Path('CRYPTOCAP MARKET DOMINANCE, 240.csv')\n",
    "markdom_df_toomanycolumns= pd.read_csv(markdom_csv)\n",
    "markdom_df = markdom_df_toomanycolumns[['time','BTC.D, CRYPTOCAP: Close','close','ETH.D, CRYPTOCAP: Close','ADA.D, CRYPTOCAP: Close',\n",
    "                                       'DOGE.D, CRYPTOCAP: Close','LTC.D, CRYPTOCAP: Close','BNB.D, CRYPTOCAP: Close','XRP.D, CRYPTOCAP: Close',\n",
    "                                       'UNI.D, CRYPTOCAP: Close','LINK.D, CRYPTOCAP: Close','USDT.D, CRYPTOCAP: Close','SOL.D, CRYPTOCAP: Close',\n",
    "                                       'LUNA.D, CRYPTOCAP: Close','AVAX.D, CRYPTOCAP: Close','ALGO.D, CRYPTOCAP: Close','BCH.D, CRYPTOCAP: Close',\n",
    "                                       'MATIC.D, CRYPTOCAP: Close','VET.D, CRYPTOCAP: Close','XLM.D, CRYPTOCAP: Close']]\n",
    "\n",
    "markdom_df.rename(columns={'time':'Date',\n",
    "                           'BTC.D, CRYPTOCAP: Close':'BTC',\n",
    "                           'close':'DOT',\n",
    "                           'ETH.D, CRYPTOCAP: Close':'ETH',\n",
    "                           'ADA.D, CRYPTOCAP: Close':'ADA',\n",
    "                           'DOGE.D, CRYPTOCAP: Close':'DOGE',\n",
    "                           'LTC.D, CRYPTOCAP: Close':'LTC',\n",
    "                           'BNB.D, CRYPTOCAP: Close':'BNB',\n",
    "                           'XRP.D, CRYPTOCAP: Close':'XRP',\n",
    "                           'UNI.D, CRYPTOCAP: Close':'UNI',\n",
    "                           'LINK.D, CRYPTOCAP: Close':'LINK',\n",
    "                           'USDT.D, CRYPTOCAP: Close':'USDT',\n",
    "                           'SOL.D, CRYPTOCAP: Close':'SOL',\n",
    "                           'LUNA.D, CRYPTOCAP: Close':'LUNA',\n",
    "                           'AVAX.D, CRYPTOCAP: Close':'AVAX',\n",
    "                           'ALGO.D, CRYPTOCAP: Close':'ALGO',\n",
    "                           'BCH.D, CRYPTOCAP: Close':'BCH',\n",
    "                           'MATIC.D, CRYPTOCAP: Close':'MATIC',\n",
    "                           'VET.D, CRYPTOCAP: Close':'VET',\n",
    "                           'XLM.D, CRYPTOCAP: Close':'XLM',\n",
    "                          }, inplace=True)"
   ]
  },
  {
   "cell_type": "raw",
   "id": "24c58a6d",
   "metadata": {},
   "source": [
    "markdom_date = pd.to_datetime(markdom_df['Date'], unit='s')\n",
    "markdom_drop = markdom_df.drop(columns = 'Date')\n",
    "markdom_cat = [markdom_date,markdom_drop]\n",
    "markdom_res = pd.concat(markdom_cat, axis=1, join = 'outer')\n",
    "markdom_res.set_index('Date', inplace=True)\n",
    "markdom_resu = markdom_res.iloc[::2]\n",
    "markdom_result = markdom_resu/100\n",
    "markdom_result"
   ]
  },
  {
   "cell_type": "code",
   "execution_count": null,
   "id": "dbc38837",
   "metadata": {},
   "outputs": [],
   "source": [
    "index_results1 = pd.DataFrame(index_tokens.values*markdom_result.values, columns=markdom_result.columns, index=index_tokens.index)\n",
    "index_results1['SUM'] = (index_results1['BTC']+index_results1['DOT']+index_results1['ETH']+index_results1['ADA']+index_results1['DOGE']+\n",
    "                         index_results1['LINK']+index_results1['UNI']+index_results1['XRP']+index_results1['BNB']+index_results1['LTC']+\n",
    "                         index_results1['USDT']+index_results1['SOL']+index_results1['LUNA']+index_results1['AVAX']+index_results1['ALGO']+\n",
    "                         index_results1['BCH']+index_results1['MATIC']+index_results1['VET']+index_results1['XLM'])\n",
    "ax = index_results1['SUM'].plot()\n"
   ]
  },
  {
   "cell_type": "code",
   "execution_count": null,
   "id": "986e5670",
   "metadata": {},
   "outputs": [],
   "source": [
    "btc_weight = 0.50749\n",
    "dot_weight = 0.01924\n",
    "eth_weight = 0.23604\n",
    "ada_weight= 0.02868\n",
    "doge_weight = 0.01440\n",
    "ltc_weight = 0.00779\n",
    "bnb_weight = 0.04367\n",
    "xrp_weight = 0.02372\n",
    "uni_weight = 0.00661\n",
    "link_weight = 0.00661\n",
    "usdt_weight = 0.03069\n",
    "sol_weight = 0.02927\n",
    "luna_weight = 0.00968\n",
    "avax_weight = 0.00803\n",
    "algo_weight = 0.00590\n",
    "bch_weight = 0.00531\n",
    "matic_weight = 0.00496\n",
    "vet_weight = 0.00437\n",
    "xlm_weight = 0.00389"
   ]
  },
  {
   "cell_type": "code",
   "execution_count": null,
   "id": "d394ea23",
   "metadata": {},
   "outputs": [],
   "source": [
    "index_returns = (btc_weight*index_tokens['BTC Median']+dot_weight*index_tokens['DOT Median']+\n",
    "                 eth_weight*index_tokens['ETH Median']+ada_weight*index_tokens['ADA Median']+\n",
    "                 doge_weight*index_tokens['DOGE Median']+ltc_weight*index_tokens['LTC Median']+\n",
    "                 bnb_weight*index_tokens['BNB Median']+xrp_weight*index_tokens['XRP Median']+\n",
    "                 uni_weight*index_tokens['UNI Median']+link_weight*index_tokens['LINK Median']+\n",
    "                 usdt_weight*index_tokens['USDT Median']+sol_weight*index_tokens['SOL Median']+\n",
    "                 luna_weight*index_tokens['LUNA Median']+avax_weight*index_tokens['AVAX Median']+\n",
    "                 algo_weight*index_tokens['ALGO Median']+bch_weight*index_tokens['BCH Median']+\n",
    "                 matic_weight*index_tokens['MATIC Median']+vet_weight*index_tokens['VET Median']+\n",
    "                 xlm_weight*index_tokens['XLM Median'])"
   ]
  },
  {
   "cell_type": "code",
   "execution_count": null,
   "id": "fe823979",
   "metadata": {},
   "outputs": [],
   "source": [
    "index_returns.plot(kind='line');"
   ]
  },
  {
   "cell_type": "code",
   "execution_count": null,
   "id": "9f95f51d",
   "metadata": {},
   "outputs": [],
   "source": [
    "index_pct = index_returns.pct_change().dropna()\n",
    "index_pct.plot();"
   ]
  },
  {
   "cell_type": "markdown",
   "id": "e4975984",
   "metadata": {},
   "source": [
    "***_MEME/GAMING/NFT TOKENS_***"
   ]
  },
  {
   "cell_type": "code",
   "execution_count": null,
   "id": "bc83d475",
   "metadata": {},
   "outputs": [],
   "source": [
    "doge_result = crypto_price_df('DOGE')\n",
    "mana_result = crypto_price_df('MANA')\n",
    "enj_result = crypto_price_df('ENJ')\n",
    "sand_result = crypto_price_df('SAND')\n",
    "chz_result = crypto_price_df('CHZ')\n",
    "dgb_result = crypto_price_df('DGB')"
   ]
  },
  {
   "cell_type": "code",
   "execution_count": null,
   "id": "9e936c42",
   "metadata": {},
   "outputs": [],
   "source": [
    "mgn_index_tokens = pd.concat([doge_result, mana_result, enj_result, sand_result, chz_result, \n",
    "                          dgb_result], axis=1, join='outer')\n",
    "mgn_index_tokens"
   ]
  },
  {
   "cell_type": "code",
   "execution_count": null,
   "id": "6922e1d0",
   "metadata": {},
   "outputs": [],
   "source": [
    "doge_weight = 0.0121\n",
    "mana_weight = 0.00217\n",
    "enj_weight = 0.00091\n",
    "sand_weight = 0.00093\n",
    "chz_weight = 0.0011\n",
    "dgb_weight = 0.00034"
   ]
  },
  {
   "cell_type": "code",
   "execution_count": null,
   "id": "20bb6824",
   "metadata": {},
   "outputs": [],
   "source": [
    "mgn_index_returns = (doge_weight*mgn_index_tokens['DOGE Median']+mana_weight*mgn_index_tokens['MANA Median']+\n",
    "                     enj_weight*mgn_index_tokens['ENJ Median']+sand_weight*mgn_index_tokens['SAND Median']+\n",
    "                     chz_weight*mgn_index_tokens['CHZ Median']+dgb_weight*mgn_index_tokens['DGB Median'])                 "
   ]
  },
  {
   "cell_type": "code",
   "execution_count": null,
   "id": "71b5719c",
   "metadata": {},
   "outputs": [],
   "source": [
    "mgn_index_returns.plot(kind='line');"
   ]
  },
  {
   "cell_type": "markdown",
   "id": "cdc8a811",
   "metadata": {},
   "source": [
    "***_DEFI TOKENS_***"
   ]
  },
  {
   "cell_type": "code",
   "execution_count": null,
   "id": "ca240948",
   "metadata": {},
   "outputs": [],
   "source": [
    "uni = requests.get('https://api.kucoin.com/api/v1/market/candles?type=8hour&symbol=UNI-USDT&startAt=1620360000&endAt=0')\n",
    "uni_j = uni.json()\n",
    "uni_j"
   ]
  },
  {
   "cell_type": "code",
   "execution_count": null,
   "id": "56f4e9ec",
   "metadata": {},
   "outputs": [],
   "source": [
    "luna = requests.get('https://api.kucoin.com/api/v1/market/candles?type=8hour&symbol=LUNA-USDT&startAt=1620360000&endAt=0')\n",
    "luna_j = luna.json()\n",
    "luna_j"
   ]
  },
  {
   "cell_type": "code",
   "execution_count": null,
   "id": "4ea77d1b",
   "metadata": {},
   "outputs": [],
   "source": [
    "avax = requests.get('https://api.kucoin.com/api/v1/market/candles?type=8hour&symbol=AVAX-USDT&startAt=1620360000&endAt=0')\n",
    "avax_j = avax.json()\n",
    "avax_j"
   ]
  },
  {
   "cell_type": "markdown",
   "id": "e532fe17",
   "metadata": {},
   "source": [
    "***_STORAGE TOKENS_***"
   ]
  },
  {
   "cell_type": "code",
   "execution_count": null,
   "id": "6d378801",
   "metadata": {},
   "outputs": [],
   "source": [
    "fil = requests.get('https://api.kucoin.com/api/v1/market/candles?type=8hour&symbol=FIL-USDT&startAt=1620360000')\n",
    "fil_j = fil.json()\n",
    "fil_j"
   ]
  },
  {
   "cell_type": "code",
   "execution_count": null,
   "id": "7d0beb85",
   "metadata": {},
   "outputs": [],
   "source": [
    "btt = requests.get('https://api.kucoin.com/api/v1/market/candles?type=8hour&symbol=BTT-USDT&startAt=1620360000')\n",
    "btt_j = btt.json()\n",
    "btt_j"
   ]
  },
  {
   "cell_type": "code",
   "execution_count": null,
   "id": "d4fb40a3",
   "metadata": {},
   "outputs": [],
   "source": [
    "storj = requests.get('https://api.kucoin.com/api/v1/market/candles?type=8hour&symbol=STORJ-USDT&startAt=1620360000')\n",
    "storj_j = storj.json()\n",
    "storj_j"
   ]
  },
  {
   "cell_type": "code",
   "execution_count": null,
   "id": "bbd9ebdd",
   "metadata": {},
   "outputs": [],
   "source": []
  },
  {
   "cell_type": "code",
   "execution_count": null,
   "id": "b2e713b5",
   "metadata": {},
   "outputs": [],
   "source": []
  }
 ],
 "metadata": {
  "kernelspec": {
   "display_name": "Python [conda env:pyvizenv]",
   "language": "python",
   "name": "conda-env-pyvizenv-py"
  },
  "language_info": {
   "codemirror_mode": {
    "name": "ipython",
    "version": 3
   },
   "file_extension": ".py",
   "mimetype": "text/x-python",
   "name": "python",
   "nbconvert_exporter": "python",
   "pygments_lexer": "ipython3",
   "version": "3.7.10"
  }
 },
 "nbformat": 4,
 "nbformat_minor": 5
}
